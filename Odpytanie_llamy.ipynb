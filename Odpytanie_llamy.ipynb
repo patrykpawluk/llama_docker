{
 "cells": [
  {
   "cell_type": "code",
   "execution_count": 4,
   "id": "dc162da1-1beb-40a5-94d5-c8c383fb4fff",
   "metadata": {},
   "outputs": [],
   "source": [
    "import requests"
   ]
  },
  {
   "cell_type": "code",
   "execution_count": 16,
   "id": "f57c2471-5222-413c-9523-5a2e84a2e2eb",
   "metadata": {},
   "outputs": [],
   "source": [
    "def test_chat():\n",
    "    payload = {\n",
    "        \"max_tokens\": 32, \n",
    "        \"messages\": [\n",
    "          {\"role\": \"system\", \"content\": \"Answear with yes or no.\"},\n",
    "          {\n",
    "              \"role\": \"user\",\n",
    "              \"content\": \"Is you, an AI chat?\"\n",
    "          }\n",
    "      ]\n",
    "    }    \n",
    "    res = requests.post('http://127.0.0.1:5001/chat', json=payload)\n",
    "    assert(res.status_code == 200)\n",
    "    return res"
   ]
  },
  {
   "cell_type": "code",
   "execution_count": 17,
   "id": "ad8002c2-1c6d-424d-aaaa-0a74c0d5e120",
   "metadata": {},
   "outputs": [],
   "source": [
    "ggg = test_chat()"
   ]
  },
  {
   "cell_type": "code",
   "execution_count": 23,
   "id": "ba09021e-b151-4e6d-9ea7-f576337e5a79",
   "metadata": {},
   "outputs": [
    {
     "data": {
      "text/plain": [
       "'Yes.'"
      ]
     },
     "execution_count": 23,
     "metadata": {},
     "output_type": "execute_result"
    }
   ],
   "source": [
    "ggg.json()['choices'][0]['message']['content'].strip()"
   ]
  },
  {
   "cell_type": "markdown",
   "id": "c80d73d2-4dcf-4ebe-b93d-f5b4d19dcf4d",
   "metadata": {},
   "source": []
  },
  {
   "attachments": {},
   "cell_type": "markdown",
   "id": "31b729e7-181c-4468-a05e-95814e08c7ef",
   "metadata": {},
   "source": []
  },
  {
   "cell_type": "code",
   "execution_count": 46,
   "id": "265a7b85-1686-4d4c-a011-bf44db43c655",
   "metadata": {},
   "outputs": [],
   "source": [
    "def llama_api_call(max_tokens, prompt_content, task_content):\n",
    "    payload = {\n",
    "        \"max_tokens\": max_tokens, \n",
    "        \"messages\": [\n",
    "          {\"role\": \"system\", \"content\": prompt_content},\n",
    "          {\n",
    "              \"role\": \"user\",\n",
    "              \"content\": task_content\n",
    "          }\n",
    "      ]\n",
    "    }    \n",
    "    res = requests.post('http://127.0.0.1:5001/chat', json=payload)\n",
    "    answear = res.json()['choices'][0]['message']['content'].strip()\n",
    "    return answear"
   ]
  },
  {
   "cell_type": "code",
   "execution_count": 51,
   "id": "551189cf-e54d-4499-a32b-49230a39ccd9",
   "metadata": {},
   "outputs": [],
   "source": [
    "project_template = {\n",
    "    #1\tProject Overview:\n",
    "    'Introduction': \"Brief description of the project's purpose, goals, and objectives.\",\n",
    "    'Scope': \"Write clearly defined boundaries of the project, including what is included and excluded from the scope.\",\n",
    "    'Objectives': \"Write specific, measurable, achievable, relevant, and time-bound (SMART) goals that the project aims to achieve.\",\n",
    "    #2\tRequirements Documentation:\n",
    "    'Functional Requirements': \"What are detailed description of the desired functionality and features of the system.\",\n",
    "    'Non-functional Requirements': \"Write specifications related to performance, security, scalability, usability, etc.\",\n",
    "    'Use Cases/User Stories': \"Write a scenarios that describe how users will interact with the system to accomplish tasks.\",\n",
    "    'Acceptance Criteria': \"What criteria that must be met for each requirement to be considered complete.\",\n",
    "    #3\tArchitecture and Design:\n",
    "    'System Architecture': \"Write high-level overview of the system's components, their interactions, and dependencies.\",\n",
    "    'Database Schema': \"What structure and relationships of the database tables/entities are needed.\",\n",
    "    'Design Patterns': \"What patterns and principles should be used in the design of the system to ensure scalability, maintainability, and reusability.\",\n",
    "    'UI/UX Design': \"What wireframes, mockups, and design guidelines for the user interface are needed.\",\n",
    "    #4\tDevelopment Guidelines:\n",
    "    'Coding Standards': \"Write guidelines for writing clean, consistent, and maintainable code.\",\n",
    "    'Version Control': \"Write procedure for using version control systems like Git, including branching and merging strategies.\",\n",
    "    'Testing Strategy': \"Describe and approach for testing the system, including unit tests, integration tests, and end-to-end tests.\",\n",
    "    'Deployment Plan': \"Write steps and procedures for deploying the system to production or staging environments.\",\n",
    "    #5\tProject Management:\n",
    "    'Project Schedule': \"Write timeline with milestones, deliverables, and dependencies.\",\n",
    "    'Resource Allocation': \"Write allocation of human and material resources to different tasks and activities.\",\n",
    "    'Risk Management': \"Write identification, assessment, and mitigation strategies for potential risks and issues.\",\n",
    "    'Communication Plan': \"Write procedures for communication among team members and stakeholders, including meeting schedules and reporting channels.\",\n",
    "    #6\tSupport and Maintenance:\n",
    "    'System Documentation': \"Write user manuals, technical guides, and FAQs for operating and maintaining the system.\",\n",
    "    'Troubleshooting': \"Write procedures for identifying and resolving common issues and errors.\",\n",
    "    'Change Management': \"Write process for handling changes and updates to the system after deployment.\",\n",
    "    #7\tLegal and Compliance:\n",
    "    'Intellectual Property Rights': \"Write ownership and licensing agreements for code, assets, and third-party libraries.\",\n",
    "    'Regulatory Compliance': \"Write compliance with relevant laws, regulations, and industry standards, such as GDPR, HIPAA, or PCI-DSS.\",\n",
    "    #8\tAppendices:\n",
    "    'Glossary': \"Write definitions of technical terms and acronyms used throughout the documentation.\",\n",
    "    'References': \"Write citations and sources of information referenced in the documentation.\",\n",
    "    #9\tSWAT analyzis:\n",
    "    'Strenghts': \"Describe what a project excels at and what separates it from the competition.\",\n",
    "    'Weaknesses': \"Describe what stop a project from performing at its optimum level.\",\n",
    "    'Opportunieties': \"Favorable external factors that could give a project a competitive advantage.\",\n",
    "    'Threats': \"Write which factors have the potential to harm a project\",\n",
    "}"
   ]
  },
  {
   "cell_type": "code",
   "execution_count": 52,
   "id": "69513a4c-0812-4657-b03b-4b54eb14569d",
   "metadata": {},
   "outputs": [],
   "source": [
    "pre_prompt = \"\"\"Imagine you are a person that is connecting IT developers with customers. Customer gives you feedback what he wants to build, what kind of site, explain what features he wants in their project. Customers have none of technical knowledge. Your job is to translate customer needs into project documentation and prepare this documentation. Documentation is for engineers. It should be precise and rigorous. Focus on what technology and solution will be the best for project.\"\"\"\n",
    "prompt_from_client = \"\"\"I have a store with ski equipment, and I want to start selling thru internet. I would like to have my own webstore with products and stuff. When someone want to buy something there should be, a possibility to pay by nice payments apps like google pay. People should be able to make and account in my webstore and I want to send them emails with sale information. I’m sealing offline in my own store so this application should have own warehouse system to count how many items are left for sale total in offline and online as well.\"\"\"\n",
    "end_prompt = \"\"\"Answear in bolt statements.\"\"\""
   ]
  },
  {
   "cell_type": "code",
   "execution_count": 53,
   "id": "9ea8bd27-eb00-4d4b-a27c-555ebae6cc75",
   "metadata": {},
   "outputs": [],
   "source": [
    "max_iter = 3\n",
    "iter = 1\n",
    "project_overwiew = {}\n",
    "for bolt in project_template:\n",
    "    if iter > max_iter:\n",
    "        break\n",
    "    prompt = pre_prompt+' '+prompt_from_client+' '+end_prompt\n",
    "    content = project_template[bolt]+' '+bolt+': '\n",
    "    project_overwiew[bolt] = llama_api_call(128, prompt, content)\n",
    "    iter += 1"
   ]
  },
  {
   "cell_type": "code",
   "execution_count": 54,
   "id": "18a2632e-1f39-45b1-8432-ab985e0036db",
   "metadata": {},
   "outputs": [
    {
     "data": {
      "text/plain": [
       "{'Introduction': 'Sure, I can assist you in creating a project documentation for your webstore',\n",
       " 'Scope': 'Sure, I can help you with that! Based on the information provided,',\n",
       " 'Objectives': 'Based on the information provided, here are some specific, measurable, achiev'}"
      ]
     },
     "execution_count": 54,
     "metadata": {},
     "output_type": "execute_result"
    }
   ],
   "source": [
    "project_overwiew"
   ]
  },
  {
   "cell_type": "code",
   "execution_count": null,
   "id": "b604866c-554a-4c25-8632-3544d690ae57",
   "metadata": {},
   "outputs": [],
   "source": []
  }
 ],
 "metadata": {
  "kernelspec": {
   "display_name": "Python 3 (ipykernel)",
   "language": "python",
   "name": "python3"
  },
  "language_info": {
   "codemirror_mode": {
    "name": "ipython",
    "version": 3
   },
   "file_extension": ".py",
   "mimetype": "text/x-python",
   "name": "python",
   "nbconvert_exporter": "python",
   "pygments_lexer": "ipython3",
   "version": "3.11.9"
  }
 },
 "nbformat": 4,
 "nbformat_minor": 5
}
